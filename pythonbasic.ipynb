{
  "nbformat": 4,
  "nbformat_minor": 0,
  "metadata": {
    "colab": {
      "provenance": []
    },
    "kernelspec": {
      "name": "python3",
      "display_name": "Python 3"
    },
    "language_info": {
      "name": "python"
    }
  },
  "cells": [
    {
      "cell_type": "markdown",
      "source": [
        "⚫ Python Basics Questions"
      ],
      "metadata": {
        "id": "MVCxt1sgvksq"
      }
    },
    {
      "cell_type": "markdown",
      "source": [
        "1. What is Python, and why is it popular ?\n",
        "\n",
        "  -->  Python is a programming language that is easy to understand and write .\n",
        "\n",
        "  --> Python is popular because it is easy to learn , versatile and has a simple , readable syntax.\n",
        "\n",
        "  --> It offers extensive libraries , cross-platform compatibility and strong communication support\n",
        "\n",
        "\n"
      ],
      "metadata": {
        "id": "C0aaYbCyw1Vb"
      }
    },
    {
      "cell_type": "markdown",
      "source": [
        "2. What is an interpreter in Python ?\n",
        "\n",
        "  --> An interpreter in Python is a program that execute code line by line instead of compiling the entire program at once.\n",
        "\n",
        "  --> It translate Python code into machine code at runtime , making debugging easier.\n",
        "\n",
        "  "
      ],
      "metadata": {
        "id": "90XEArVcz8Um"
      }
    },
    {
      "cell_type": "markdown",
      "source": [
        "3. What are pre-defined keywords in Python ?\n",
        "\n",
        "  --> Pre-defined keywords in python are reserved words that have a specific meaning and cannot be used as variable, functions , or identifier names.\n",
        "\n",
        "  --> they are essential for python's syntax and functionality."
      ],
      "metadata": {
        "id": "NzM0v0pP1nyP"
      }
    },
    {
      "cell_type": "markdown",
      "source": [
        "4. Can keywords be used as variable names ?\n",
        "\n",
        "  --> No, keywords cannot be used as variable names in python because they are reserved words that have a predefined meaning in the language.\n",
        "\n",
        "  --> Using a keyword as variable name will result in a SyntaxError."
      ],
      "metadata": {
        "id": "OH9Jr7LV26S5"
      }
    },
    {
      "cell_type": "markdown",
      "source": [
        "5. What is mutability in Python ?\n",
        "\n",
        "  --> Mutability in python refers to whether an object's value can be changed after it is created .\n",
        "\n",
        "  -->Example : list,dict,set\n",
        "  "
      ],
      "metadata": {
        "id": "t0yE4B_b38_1"
      }
    },
    {
      "cell_type": "markdown",
      "source": [
        "6. Why are lists mutable, but tuples are immutable ?\n",
        "\n",
        "  --> list are mutable because they are stored dynamically , allowing modification like adding , removing or changing elements.\n",
        "\n",
        "  -->Tuples are immutable because they are stored in a fixed memory location , making them faster and hashable (usable as dictionary keys).\n",
        "  \n"
      ],
      "metadata": {
        "id": "fG_rkZ8IbrXb"
      }
    },
    {
      "cell_type": "markdown",
      "source": [
        "7. What is the difference between “==” and “is” operators in Python ?\n",
        "  \n",
        "  --> use \"==\" to check if two objects have the same value\n",
        "\n",
        "  --> use \"is\" to check if two variables point to the same memory location .\n",
        "              \n",
        "              or\n",
        "\n",
        "  --> use \"is\" to check if two variable refer to the same object in memory.\n"
      ],
      "metadata": {
        "id": "PHQSYZN4d0Vp"
      }
    },
    {
      "cell_type": "markdown",
      "source": [
        "8. what are logical operators in python ?\n",
        "\n",
        "  --> logical operators are used to combine multiple conditions and return True or false\n",
        "\n",
        "\n",
        "Logical operators :-\n",
        "\n",
        "  \n",
        "    AND operator : return true if both condition are true\n",
        "  \n",
        "    Example :\n",
        "     \n",
        "      (5>2) and (10>5) --> true\n",
        "\n",
        "    OR operator : Returns true if at least one condition is true .\n",
        "\n",
        "    Example :\n",
        "\n",
        "      (5>10) or (10>5) --> true\n",
        "\n",
        "    NOT operator : reverse the result (true --> false , false --> true)\n",
        "\n",
        "    Example :\n",
        "\n",
        "        not(5 > 10) -> true\n",
        "\n",
        "\n",
        "\n"
      ],
      "metadata": {
        "id": "6BuZab21fhUI"
      }
    },
    {
      "cell_type": "markdown",
      "source": [
        "9. what is type casting in python ?\n",
        "\n",
        "  --> Typecasting in python refers to converting one data type into another.\n",
        "\n",
        "  --> This can be done explicity by the programmer or implicity by python.\n",
        "\n",
        "  --> Python provides serveral built-in-functions to perform explicit typecasting, which is useful when you need to convert data type to make them compatible with certain operations or structure.\n",
        "\n",
        "    EXAMPLE\n",
        "\n",
        "\n",
        "\n",
        "\n",
        "\n",
        "      x = 5   # integer\n",
        "\n",
        "      y = 2.5 # floaT\n",
        "\n",
        "      result = x + y  # Python automatically converts x to a float\n",
        "      print(result)   # Output: 7.5\n"
      ],
      "metadata": {
        "id": "XTBcrLeomGQN"
      }
    },
    {
      "cell_type": "markdown",
      "source": [
        "10.  What is the difference between implicit and explicit type casting ?\n",
        "\n",
        "  --> The main diffrence between implicit and explicit type casting in python lies in how and when the conversion between data type occures.\n",
        "\n",
        "  --> Implicit : implicit type casting is done automatically by python when you perform an operation that require two diffrent data type to work together.\n",
        "\n",
        "  --> Explicit : Explicit type casting is done manually by the programmer using functions like int() ,float() , str() , etc."
      ],
      "metadata": {
        "id": "Smlm0wPLepoD"
      }
    },
    {
      "cell_type": "markdown",
      "source": [
        "11. What is the purpose of conditional statements in Python ?\n",
        "\n",
        "  --> The purpose of conditional statement in python is to allow your program to make dicisions based on certain condition ."
      ],
      "metadata": {
        "id": "xohq8SsngnF7"
      }
    },
    {
      "cell_type": "markdown",
      "source": [
        "12. How does the elif statement work ?\n",
        "\n",
        "  --> The elif statement in python is short for \"else if\" and allows you to check multiple conditions sequentially after an intial if statement .\n",
        "\n",
        "  --> it's use when you have more than two possible condition to check , providing a way to execute different blocks of code based on different conditions.\n",
        "\n",
        "  --> Here's how it works -\n",
        "\n",
        "      \n",
        "      1.The program firs check the condition in the if statement.\n",
        "\n",
        "      2.If the if condition is true , the block of code under the if statement runs , and the rest of the elif and else parts are skipped .\n",
        "\n",
        "      3. If the if condition is false , the program checks the condition the condition in the first elif statement .\n",
        "\n",
        "      4. If the elif condition is true , it's block of code runs and the rest of the elif and else parts are skipped.\n",
        "\n",
        "      5. If none of the if or elif conditions are true ,the program will run the code in the else block (if an else if provided).\n"
      ],
      "metadata": {
        "id": "VSozsZdAjZ-2"
      }
    },
    {
      "cell_type": "markdown",
      "source": [
        "13. What is the difference between for and while loops ?\n",
        "\n",
        "  --> The main diffrence between for and while loops in python lies in how the loops are controlled and how they execute\n",
        "\n",
        "  1. For loop :-\n",
        "\n",
        "  --> A for loop is used when you know the number of iteration in advance or when iteretion over a sequence (like a list , tuple , string , or range)\n",
        "\n",
        "  --> It is commonly used when you want to loop through a collection or a sequence of items.\n",
        "\n",
        "  2. while loop :-\n",
        "\n",
        "  --> A while loop is used when you want to repeat a block of code as long as given condition is true .\n",
        "\n",
        "  --> It is ideal when the number of iterations is unknown and depend on a condition that might change during the loop's execution .\n",
        "  "
      ],
      "metadata": {
        "id": "JkK2IfSfBxUj"
      }
    },
    {
      "cell_type": "markdown",
      "source": [
        "14. Describe a scenario where a while loop is more suitable than a for loop.\n",
        "\n",
        "  --> A while loop is more suitable than a for loop in situations where the number of iterations is not lnown in advance , And the loop should continue running based on a collection that might change during execution ."
      ],
      "metadata": {
        "id": "S1Ilb5hNEK32"
      }
    },
    {
      "cell_type": "markdown",
      "source": [
        "⚫ PRACTICAL QUESTIONS\n"
      ],
      "metadata": {
        "id": "fL-PlZ2OIZwr"
      }
    },
    {
      "cell_type": "markdown",
      "source": [
        "1. Write a python program to print \"Hello , world!\""
      ],
      "metadata": {
        "id": "K9HTRxuWImQA"
      }
    },
    {
      "cell_type": "code",
      "source": [
        "print (\"Hello, world!\")"
      ],
      "metadata": {
        "colab": {
          "base_uri": "https://localhost:8080/"
        },
        "id": "RAJG6XCCGQhv",
        "outputId": "b3e6336c-45f3-49d2-e058-c7bdbe51872f"
      },
      "execution_count": null,
      "outputs": [
        {
          "output_type": "stream",
          "name": "stdout",
          "text": [
            "Hello, world!\n"
          ]
        }
      ]
    },
    {
      "cell_type": "markdown",
      "source": [
        "2. Write a Python program that displays your name and age."
      ],
      "metadata": {
        "id": "SPo_62lR1SPN"
      }
    },
    {
      "cell_type": "code",
      "execution_count": null,
      "metadata": {
        "id": "v-UQb1yztAi2",
        "colab": {
          "base_uri": "https://localhost:8080/"
        },
        "outputId": "a4040970-e891-4959-93fd-62893470e756"
      },
      "outputs": [
        {
          "output_type": "stream",
          "name": "stdout",
          "text": [
            "My name is fizzafatema and I am 20 years old.\n"
          ]
        }
      ],
      "source": [
        "name = \"fizzafatema\"\n",
        "age = \"20\"\n",
        "\n",
        "print(\"My name is\", name, \"and I am\", age, \"years old.\")"
      ]
    },
    {
      "cell_type": "markdown",
      "source": [
        "3. Write code to print all the pre-defined keywords in Python using the keyword library."
      ],
      "metadata": {
        "id": "M5uYh5FnJgWm"
      }
    },
    {
      "cell_type": "code",
      "source": [
        "import keyword\n",
        "\n",
        "print(keyword.kwlist)"
      ],
      "metadata": {
        "colab": {
          "base_uri": "https://localhost:8080/"
        },
        "id": "rV-YkU8mJvmi",
        "outputId": "79923473-dae3-43da-f8db-1ef14a482ab6"
      },
      "execution_count": null,
      "outputs": [
        {
          "output_type": "stream",
          "name": "stdout",
          "text": [
            "['False', 'None', 'True', 'and', 'as', 'assert', 'async', 'await', 'break', 'class', 'continue', 'def', 'del', 'elif', 'else', 'except', 'finally', 'for', 'from', 'global', 'if', 'import', 'in', 'is', 'lambda', 'nonlocal', 'not', 'or', 'pass', 'raise', 'return', 'try', 'while', 'with', 'yield']\n"
          ]
        }
      ]
    },
    {
      "cell_type": "markdown",
      "source": [
        "4. Write a program that checks if a given word is a Python keyword."
      ],
      "metadata": {
        "id": "dgX5bS5TJ8Ri"
      }
    },
    {
      "cell_type": "code",
      "source": [
        "import keyword\n",
        "\n",
        "word = input(\"Enter a word to check if it's a python keyword: \")\\\n",
        "\n",
        "if keyword.iskeyword(word):\n",
        "  print(f\"'{word}' is a python keyword .\")\n",
        "else:\n",
        "  print(f\"'{word}' is Not a python keyword\")\n"
      ],
      "metadata": {
        "colab": {
          "base_uri": "https://localhost:8080/"
        },
        "id": "VkNjjWbrKPHq",
        "outputId": "17b726e3-922e-4ef4-aef8-1a39493f5dba"
      },
      "execution_count": null,
      "outputs": [
        {
          "output_type": "stream",
          "name": "stdout",
          "text": [
            "Enter a word to check if it's a python keyword: def\n",
            "'def' is a python keyword .\n"
          ]
        }
      ]
    },
    {
      "cell_type": "markdown",
      "source": [
        "5. Create a list and tuple in Python, and demonstrate how attempting to change an element works differently\n",
        "for each."
      ],
      "metadata": {
        "id": "ZCwIWlzULCCB"
      }
    },
    {
      "cell_type": "code",
      "source": [
        "my_list = [1,2,3,4,5]\n",
        "my_tuple = (1,2,3,4,5)\n",
        "\n",
        "print(\"original list\", my_list)\n",
        "my_list[2] = 10 # change the 3rd element (index 2) to 10\n",
        "print(\"Modified list :\",my_list)\n",
        "\n",
        "print(\"original tuple :\",my_tuple)\n",
        "\n",
        "try:\n",
        "  my_tuple[2] = 10 # try to change 3rd element (index 2) to 10\n",
        "  print(\"Modified tuple :\",my_tuple)\n",
        "except TypeError as e:\n",
        "  print(\"Error :\",e)\n"
      ],
      "metadata": {
        "colab": {
          "base_uri": "https://localhost:8080/"
        },
        "id": "bdbdTxHPLZA7",
        "outputId": "0b9f2071-7ee8-4b32-ae66-9ce4cfb21e28"
      },
      "execution_count": null,
      "outputs": [
        {
          "output_type": "stream",
          "name": "stdout",
          "text": [
            "original list [1, 2, 3, 4, 5]\n",
            "Modified list : [1, 2, 10, 4, 5]\n",
            "original tuple : (1, 2, 3, 4, 5)\n",
            "Error : 'tuple' object does not support item assignment\n"
          ]
        }
      ]
    },
    {
      "cell_type": "markdown",
      "source": [
        "6.  Write a function to demonstrate the behavior of mutable and immutable arguments.\n"
      ],
      "metadata": {
        "id": "R-7vLaR2Qgx_"
      }
    },
    {
      "cell_type": "code",
      "source": [
        "def modify_arguments(immutable_arg, mutable_arg):\n",
        "    print(\"Before modification:\")\n",
        "    print(\"Immutable argument:\", immutable_arg)\n",
        "    print(\"Mutable argument:\", mutable_arg)\n",
        "\n",
        "    # Modify immutable argument (this won't affect the original)\n",
        "    immutable_arg += 10\n",
        "    print(\"Modified immutable argument:\", immutable_arg)\n",
        "\n",
        "    # Modify mutable argument (this will affect the original)\n",
        "    mutable_arg.append(100)\n",
        "    print(\"Modified mutable argument:\", mutable_arg)\n",
        "\n",
        "# Create an immutable argument (integer)\n",
        "immutable = 5\n",
        "\n",
        "# Create a mutable argument (list)\n",
        "mutable = [1, 2, 3]\n",
        "\n",
        "# Call the function\n",
        "modify_arguments(immutable, mutable)\n",
        "\n",
        "print(\"\\nAfter function call:\")\n",
        "print(\"Original immutable argument:\", immutable)  # Still 5\n",
        "print(\"Original mutable argument:\", mutable)    # Now [1, 2, 3, 100]\n"
      ],
      "metadata": {
        "colab": {
          "base_uri": "https://localhost:8080/"
        },
        "id": "NoRNVLq1RZVe",
        "outputId": "cc77d1e9-44c1-46bb-9de7-ad3b30842f4e"
      },
      "execution_count": null,
      "outputs": [
        {
          "output_type": "stream",
          "name": "stdout",
          "text": [
            "Before modification:\n",
            "Immutable argument: 5\n",
            "Mutable argument: [1, 2, 3]\n",
            "Modified immutable argument: 15\n",
            "Modified mutable argument: [1, 2, 3, 100]\n",
            "\n",
            "After function call:\n",
            "Original immutable argument: 5\n",
            "Original mutable argument: [1, 2, 3, 100]\n"
          ]
        }
      ]
    },
    {
      "cell_type": "markdown",
      "source": [
        "7. Write a program that performs basic arithmetic operations on two user-input numbers."
      ],
      "metadata": {
        "id": "NHk-AQNTTulC"
      }
    },
    {
      "cell_type": "code",
      "source": [
        "def basic_arithmetic_operations():\n",
        "  # taking input from the user\n",
        "\n",
        "  num1 = float(input(\"Enter the first number :\"))\n",
        "  num2 = float(input(\"Enter the second number :\"))\n",
        "\n",
        "  #Performing basic arithmetic operations\n",
        "\n",
        "  print(f\"\\nAddition: {num1} + {num2} = {num1 + num2}\")\n",
        "  print(f\"Subtraction: {num1} - {num2} = {num1 - num2}\")\n",
        "  print(f\"Multiplication: {num1} * {num2} = {num1 * num2}\")\n",
        "\n",
        "  # checking for division by zero\n",
        "\n",
        "  if num2 != 0:\n",
        "    print(f\"Division : {num1} / {num2} ={num1 / num2}\")\n",
        "\n",
        "  else:\n",
        "    print(\"Division : Cannot divide by zero.\")\n",
        "\n",
        "  # call the function\n",
        "basic_arithmetic_operations()"
      ],
      "metadata": {
        "colab": {
          "base_uri": "https://localhost:8080/"
        },
        "id": "Jl0aQh4IVpGV",
        "outputId": "c40499ca-e577-45b7-e493-c8ff7381ec44"
      },
      "execution_count": null,
      "outputs": [
        {
          "output_type": "stream",
          "name": "stdout",
          "text": [
            "Enter the first number :10\n",
            "Enter the second number :5\n",
            "\n",
            "Addition: 10.0 + 5.0 = 15.0\n",
            "Subtraction: 10.0 - 5.0 = 5.0\n",
            "Multiplication: 10.0 * 5.0 = 50.0\n",
            "Division : 10.0 / 5.0 =2.0\n"
          ]
        }
      ]
    },
    {
      "cell_type": "markdown",
      "source": [
        "8.  Write a program to demonstrate the use of logical operators.\n"
      ],
      "metadata": {
        "id": "AEq-LircX8jV"
      }
    },
    {
      "cell_type": "code",
      "source": [
        "def logical_operators_demo():\n",
        "  #Taking two boolean inputs from the user\n",
        "\n",
        "  x = bool(int(input(\"Enter 1 for True or 0 for False for x:\")))\n",
        "  y = bool(int(input(\"Enter 1 for True or 0 for False for y:\")))\n",
        "\n",
        "  print(\"\\n Logical operators demostration:\")\n",
        "\n",
        "  # AND operator (both conditions must be True)\n",
        "\n",
        "  if x and y:\n",
        "    print(f\"x AND y : {x} and {y} = True\")\n",
        "  else :\n",
        "    print(f\"x AND y : {x} AND {y} = False\")\n",
        "\n",
        "  # NOT operator (negates the value)\n",
        "\n",
        "  print(f\"NOT x: {x} -> {not x}\")\n",
        "  print(f\"NOT y: {y} -> {not y}\")\n",
        "\n",
        "# call the function\n",
        "\n",
        "logical_operators_demo()\n"
      ],
      "metadata": {
        "colab": {
          "base_uri": "https://localhost:8080/"
        },
        "id": "V6suFbr-Z5Im",
        "outputId": "2d8cfb3b-5c68-4981-859e-6234dbb30f79"
      },
      "execution_count": null,
      "outputs": [
        {
          "output_type": "stream",
          "name": "stdout",
          "text": [
            "Enter 1 for True or 0 for False for x:1\n",
            "Enter 1 for True or 0 for False for y:0\n",
            "\n",
            " Logical operators demostration:\n",
            "x AND y : True AND False = False\n",
            "NOT x: True -> False\n",
            "NOT y: False -> True\n"
          ]
        }
      ]
    },
    {
      "cell_type": "markdown",
      "source": [
        "9. Write a Python program to convert user input from string to integer, float, and boolean types."
      ],
      "metadata": {
        "id": "jmbAVK0jh-kg"
      }
    },
    {
      "cell_type": "code",
      "source": [
        "def convert_user_input():\n",
        "    n = input(\"Enter a value: \")\n",
        "\n",
        "    # Convert the string to an integer\n",
        "    try:\n",
        "        int_value = int(n)\n",
        "        print(f\"Integer conversion: {int_value}\")\n",
        "    except ValueError:\n",
        "        print(\"Cannot convert to integer.\")\n",
        "\n",
        "    # Convert the string to a float\n",
        "    try:\n",
        "        float_value = float(n)\n",
        "        print(f\"Float conversion: {float_value}\")\n",
        "    except ValueError:\n",
        "        print(\"Cannot convert to float.\")\n",
        "\n",
        "    # Convert the string to a boolean\n",
        "    # For boolean, we will convert 'True' or 'False'\n",
        "    if n.strip().lower() == 'true':\n",
        "        boolean_value = True\n",
        "    elif n.strip().lower() == 'false':\n",
        "        boolean_value = False\n",
        "    else:\n",
        "        boolean_value = bool(n)  # Non-empty string will be True, empty string will be False\n",
        "\n",
        "    print(f\"Boolean conversion: {boolean_value}\")\n",
        "\n",
        "convert_user_input()\n"
      ],
      "metadata": {
        "colab": {
          "base_uri": "https://localhost:8080/"
        },
        "id": "hhhWJUxyzpQF",
        "outputId": "981d828b-892e-4af0-c255-264ad3283435"
      },
      "execution_count": null,
      "outputs": [
        {
          "output_type": "stream",
          "name": "stdout",
          "text": [
            "Enter a value: 123\n",
            "Integer conversion: 123\n",
            "Float conversion: 123.0\n",
            "Boolean conversion: True\n"
          ]
        }
      ]
    },
    {
      "cell_type": "markdown",
      "source": [
        "10.  Write code to demonstrate type casting with list elements."
      ],
      "metadata": {
        "id": "E_d9Fjd50zhU"
      }
    },
    {
      "cell_type": "code",
      "source": [
        "mixed_list = ['1',2,3.5,True]\n",
        "\n",
        "# convert all element to int\n",
        "\n",
        "int_list = [int(item) for item in mixed_list]\n",
        "print(\"Integer list:\", int_list)\n",
        "\n",
        "# convert all element to float\n",
        "float_list =[float(item) for item in mixed_list]\n",
        "print(\"float list :\" , float_list)\n",
        "\n",
        "#convert all element to string\n",
        "\n",
        "str_list = [str(item) for item in mixed_list]\n",
        "print(\"string list :\" , str_list)\n",
        "\n"
      ],
      "metadata": {
        "id": "QgKOV1S45iTJ",
        "colab": {
          "base_uri": "https://localhost:8080/"
        },
        "outputId": "00f4c33a-f855-42ca-87f4-2666f10dd7a1"
      },
      "execution_count": 2,
      "outputs": [
        {
          "output_type": "stream",
          "name": "stdout",
          "text": [
            "Integer list: [1, 2, 3, 1]\n",
            "float list : [1.0, 2.0, 3.5, 1.0]\n",
            "string list : ['1', '2', '3.5', 'True']\n"
          ]
        }
      ]
    },
    {
      "cell_type": "markdown",
      "source": [
        "11.  Write a program that checks if a number is positive, negative, or zero."
      ],
      "metadata": {
        "id": "eSphxbVJelbh"
      }
    },
    {
      "cell_type": "code",
      "source": [
        "num = int(input(\"Enter a number :\"))\n",
        "\n",
        "if num > 0:\n",
        "  print(\"The number is positive :\")\n",
        "elif num < 0:\n",
        "  print(\"The number is nagative :\")\n",
        "else:\n",
        "  print(\"The number is zero\")\n",
        "\n",
        "\n"
      ],
      "metadata": {
        "colab": {
          "base_uri": "https://localhost:8080/"
        },
        "id": "VQYCAu8fersN",
        "outputId": "5827ee8f-278b-4368-97a1-94216f159329"
      },
      "execution_count": 4,
      "outputs": [
        {
          "output_type": "stream",
          "name": "stdout",
          "text": [
            "Enter a number :-23\n",
            "The number is nagative :\n"
          ]
        }
      ]
    },
    {
      "cell_type": "markdown",
      "source": [
        "12.  Write a for loop to print numbers from 1 to 10."
      ],
      "metadata": {
        "id": "3vRKGR_UfXpz"
      }
    },
    {
      "cell_type": "code",
      "source": [
        "for i in range(1,11):\n",
        "  print(i)"
      ],
      "metadata": {
        "colab": {
          "base_uri": "https://localhost:8080/"
        },
        "id": "trpV0y9EfdLZ",
        "outputId": "43484c72-e8c6-4eda-bc1d-436129169838"
      },
      "execution_count": 5,
      "outputs": [
        {
          "output_type": "stream",
          "name": "stdout",
          "text": [
            "1\n",
            "2\n",
            "3\n",
            "4\n",
            "5\n",
            "6\n",
            "7\n",
            "8\n",
            "9\n",
            "10\n"
          ]
        }
      ]
    },
    {
      "cell_type": "markdown",
      "source": [
        "13.  Write a Python program to find the sum of all even numbers between 1 and 50."
      ],
      "metadata": {
        "id": "AHUZQZaxfpw_"
      }
    },
    {
      "cell_type": "code",
      "source": [
        "even_sum = 0\n",
        "\n",
        "for num in range(1,51):\n",
        "  if num % 2 == 0:\n",
        "    even_sum += num\n",
        "\n",
        "print(\"The sum of all even number between 1 to 50 is :\" , even_sum)\n"
      ],
      "metadata": {
        "colab": {
          "base_uri": "https://localhost:8080/"
        },
        "id": "xOUaKjJFfr-m",
        "outputId": "70c55a04-3f58-4ed6-a945-b78b872d4a70"
      },
      "execution_count": 6,
      "outputs": [
        {
          "output_type": "stream",
          "name": "stdout",
          "text": [
            "The sum of all even number between 1 to 50 is : 650\n"
          ]
        }
      ]
    },
    {
      "cell_type": "markdown",
      "source": [
        "14.  Write a program to reverse a string using a while loop.\n"
      ],
      "metadata": {
        "id": "9PV8PFdWguvK"
      }
    },
    {
      "cell_type": "code",
      "source": [
        "string = input(\"Enter a string : \")\n",
        "\n",
        "reversed_string = \"\"\n",
        "index = len(string)-1\n",
        "\n",
        "while index >=0:\n",
        "  reversed_string += string[index]\n",
        "  index -= 1\n",
        "\n",
        "print(\"Reversed string :\" , reversed_string)\n"
      ],
      "metadata": {
        "colab": {
          "base_uri": "https://localhost:8080/"
        },
        "id": "PJ40_DGGgzqZ",
        "outputId": "8d76ac28-3339-4e27-bb6b-1de20cabca18"
      },
      "execution_count": 8,
      "outputs": [
        {
          "output_type": "stream",
          "name": "stdout",
          "text": [
            "Enter a string : hello\n",
            "Reversed string : olleh\n"
          ]
        }
      ]
    },
    {
      "cell_type": "markdown",
      "source": [
        "15.  Write a Python program to calculate the factorial of a number provided by the user using a while loop."
      ],
      "metadata": {
        "id": "6dIFVLwzh-Ow"
      }
    },
    {
      "cell_type": "code",
      "source": [
        "num = int(input(\"Enter a number : \"))\n",
        "\n",
        "factorial = 1\n",
        "\n",
        "if num < 0:\n",
        "  print(\"factorial does not exist for negative numbers.\")\n",
        "else:\n",
        "\n",
        "  while num > 0:\n",
        "    factorial *= num\n",
        "    num -= 1\n",
        "\n",
        "print(\"Factorial is : \",factorial)"
      ],
      "metadata": {
        "colab": {
          "base_uri": "https://localhost:8080/"
        },
        "id": "A7ELqmBTidKN",
        "outputId": "03d7e155-da4e-4912-8939-3fe1652e97bc"
      },
      "execution_count": 9,
      "outputs": [
        {
          "output_type": "stream",
          "name": "stdout",
          "text": [
            "Enter a number : 5\n",
            "Factorial is :  120\n"
          ]
        }
      ]
    }
  ]
}